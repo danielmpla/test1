{
 "cells": [
  {
   "cell_type": "markdown",
   "metadata": {},
   "source": [
    "__Achtung: Das Notebook funktioniert nur im \"Turtle Environment\"__\n",
    "\n",
    "Mögliche Befehle: https://github.com/boyuai/ipyturtle2"
   ]
  },
  {
   "cell_type": "code",
   "execution_count": 1,
   "metadata": {},
   "outputs": [
    {
     "data": {
      "application/vnd.jupyter.widget-view+json": {
       "model_id": "528d6950af5f4bad894bf9a1898e7f6f",
       "version_major": 2,
       "version_minor": 0
      },
      "text/plain": [
       "TurtleWidget()"
      ]
     },
     "metadata": {},
     "output_type": "display_data"
    }
   ],
   "source": [
    "from ipyturtle2 import TurtleWidget\n",
    "t = TurtleWidget(400, 400)\n",
    "t"
   ]
  },
  {
   "cell_type": "code",
   "execution_count": 2,
   "metadata": {},
   "outputs": [],
   "source": [
    "t.reset()\n",
    "t.setposition(-100, 0)\n",
    "t.color('red', 'yellow')\n",
    "t.begin_fill()\n",
    "for i in range(36):\n",
    "    t.forward(200)\n",
    "    t.left(170)\n",
    "t.end_fill()"
   ]
  }
 ],
 "metadata": {
  "kernelspec": {
   "display_name": "Python 3",
   "language": "python",
   "name": "python3"
  },
  "language_info": {
   "codemirror_mode": {
    "name": "ipython",
    "version": 3
   },
   "file_extension": ".py",
   "mimetype": "text/x-python",
   "name": "python",
   "nbconvert_exporter": "python",
   "pygments_lexer": "ipython3",
   "version": "3.8.5"
  }
 },
 "nbformat": 4,
 "nbformat_minor": 5
}
